{
 "cells": [
  {
   "cell_type": "markdown",
   "metadata": {},
   "source": [
    "# Token"
   ]
  },
  {
   "cell_type": "code",
   "execution_count": 3,
   "metadata": {
    "collapsed": true
   },
   "outputs": [],
   "source": [
    "api_key = 'hAyu_v3-iiPV-EQK-et8'\n",
    "#all housing price index follow each other closely"
   ]
  },
  {
   "cell_type": "markdown",
   "metadata": {},
   "source": [
    "# Imports"
   ]
  },
  {
   "cell_type": "code",
   "execution_count": 4,
   "metadata": {
    "collapsed": false
   },
   "outputs": [],
   "source": [
    "from bs4 import BeautifulSoup\n",
    "import pandas as pd\n",
    "import quandl\n",
    "import urllib\n",
    "import bleach\n",
    "import pickle \n",
    "from ggplot import *\n"
   ]
  },
  {
   "cell_type": "markdown",
   "metadata": {},
   "source": [
    "# Get Data"
   ]
  },
  {
   "cell_type": "code",
   "execution_count": 185,
   "metadata": {
    "collapsed": false
   },
   "outputs": [],
   "source": [
    "\n",
    "def get_table():\n",
    "    state_abbrv = urllib.urlopen('https://simple.wikipedia.org/wiki/List_of_U.S._states').read()\n",
    "    soup = BeautifulSoup(state_abbrv)\n",
    "    state_table = soup.find(\"table\", {\"class\" :\"wikitable sortable\"})\n",
    "    return state_table\n",
    "\n",
    "\n",
    "def get_abbrv():\n",
    "    abbrv_list = []\n",
    "    for row in get_table().find_all('b'):\n",
    "        cleaned = bleach.clean(row,tags=[], strip = True)\n",
    "        abbrv_list.append(cleaned)\n",
    "    return abbrv_list\n",
    "\n",
    "def get_hpi_data():\n",
    "    hpi_frame = pd.DataFrame()\n",
    "    for state_abbrv in get_abbrv():\n",
    "        state_df = quandl.get(\"FMAC/HPI_\" + state_abbrv, authtoken = api_key)\n",
    "        state_df = state_df.rename(columns={'Value': str(state_abbrv)})\n",
    "        #state_df[cleaned] = (state_df[cleaned] - state_df[cleaned][0]) / state_df[cleaned][0] * 100.0\n",
    "    \n",
    "        if hpi_frame.empty:\n",
    "            hpi_frame = state_df\n",
    "        else:\n",
    "            hpi_frame = hpi_frame.join(state_df) \n",
    "    \n",
    "    #hpi_frame.to_pickle('hpi_data_pc_change.pickle')\n",
    "    hpi_frame.to_pickle('hpi_data.pickle')\n",
    "    \n",
    "def get_hpi_usa():\n",
    "    usa_frame = quandl.get(\"FMAC/HPI_USA\" , authtoken = api_key)\n",
    "    usa_frame = usa_frame.rename(columns={'Value': 'USA'})\n",
    "    return usa_frame\n",
    "    \n",
    "    \n",
    "def convertDate(df):\n",
    "    df['Date'] = df.index\n",
    "    df.reset_index(drop=True)\n",
    "    return df\n",
    "    "
   ]
  },
  {
   "cell_type": "markdown",
   "metadata": {},
   "source": [
    "# HPI Analysis "
   ]
  },
  {
   "cell_type": "code",
   "execution_count": 186,
   "metadata": {
    "collapsed": false
   },
   "outputs": [],
   "source": [
    "get_hpi_data() #run this to pickle thehpi quandal data"
   ]
  },
  {
   "cell_type": "code",
   "execution_count": 206,
   "metadata": {
    "collapsed": false
   },
   "outputs": [
    {
     "data": {
      "text/html": [
       "<div>\n",
       "<table border=\"1\" class=\"dataframe\">\n",
       "  <thead>\n",
       "    <tr style=\"text-align: right;\">\n",
       "      <th></th>\n",
       "      <th>AL</th>\n",
       "      <th>AK</th>\n",
       "      <th>AZ</th>\n",
       "      <th>AR</th>\n",
       "      <th>CA</th>\n",
       "      <th>CO</th>\n",
       "      <th>CT</th>\n",
       "      <th>DE</th>\n",
       "      <th>FL</th>\n",
       "      <th>GA</th>\n",
       "      <th>...</th>\n",
       "      <th>SD</th>\n",
       "      <th>TN</th>\n",
       "      <th>TX</th>\n",
       "      <th>UT</th>\n",
       "      <th>VT</th>\n",
       "      <th>VA</th>\n",
       "      <th>WA</th>\n",
       "      <th>WV</th>\n",
       "      <th>WI</th>\n",
       "      <th>WY</th>\n",
       "    </tr>\n",
       "    <tr>\n",
       "      <th>Date</th>\n",
       "      <th></th>\n",
       "      <th></th>\n",
       "      <th></th>\n",
       "      <th></th>\n",
       "      <th></th>\n",
       "      <th></th>\n",
       "      <th></th>\n",
       "      <th></th>\n",
       "      <th></th>\n",
       "      <th></th>\n",
       "      <th></th>\n",
       "      <th></th>\n",
       "      <th></th>\n",
       "      <th></th>\n",
       "      <th></th>\n",
       "      <th></th>\n",
       "      <th></th>\n",
       "      <th></th>\n",
       "      <th></th>\n",
       "      <th></th>\n",
       "      <th></th>\n",
       "    </tr>\n",
       "  </thead>\n",
       "  <tbody>\n",
       "    <tr>\n",
       "      <th>1975-01-31</th>\n",
       "      <td>35.324038</td>\n",
       "      <td>34.400087</td>\n",
       "      <td>28.886571</td>\n",
       "      <td>36.838213</td>\n",
       "      <td>15.665713</td>\n",
       "      <td>19.666460</td>\n",
       "      <td>24.530646</td>\n",
       "      <td>27.146975</td>\n",
       "      <td>30.903838</td>\n",
       "      <td>30.862154</td>\n",
       "      <td>...</td>\n",
       "      <td>37.861487</td>\n",
       "      <td>32.210851</td>\n",
       "      <td>32.659989</td>\n",
       "      <td>24.603939</td>\n",
       "      <td>26.556884</td>\n",
       "      <td>27.954539</td>\n",
       "      <td>17.480301</td>\n",
       "      <td>41.248346</td>\n",
       "      <td>28.142079</td>\n",
       "      <td>31.820164</td>\n",
       "    </tr>\n",
       "    <tr>\n",
       "      <th>1975-02-28</th>\n",
       "      <td>35.545343</td>\n",
       "      <td>34.911194</td>\n",
       "      <td>29.374322</td>\n",
       "      <td>37.149935</td>\n",
       "      <td>15.721510</td>\n",
       "      <td>19.894520</td>\n",
       "      <td>25.051659</td>\n",
       "      <td>27.185646</td>\n",
       "      <td>32.121077</td>\n",
       "      <td>30.583518</td>\n",
       "      <td>...</td>\n",
       "      <td>37.445064</td>\n",
       "      <td>32.246969</td>\n",
       "      <td>32.970745</td>\n",
       "      <td>24.947973</td>\n",
       "      <td>26.807912</td>\n",
       "      <td>28.230531</td>\n",
       "      <td>17.549796</td>\n",
       "      <td>42.277521</td>\n",
       "      <td>28.537453</td>\n",
       "      <td>32.277898</td>\n",
       "    </tr>\n",
       "    <tr>\n",
       "      <th>1975-03-31</th>\n",
       "      <td>35.803942</td>\n",
       "      <td>35.434316</td>\n",
       "      <td>29.828662</td>\n",
       "      <td>37.420977</td>\n",
       "      <td>15.912556</td>\n",
       "      <td>20.118681</td>\n",
       "      <td>25.443161</td>\n",
       "      <td>27.252283</td>\n",
       "      <td>33.931871</td>\n",
       "      <td>30.466267</td>\n",
       "      <td>...</td>\n",
       "      <td>37.021567</td>\n",
       "      <td>32.329769</td>\n",
       "      <td>33.542148</td>\n",
       "      <td>25.258222</td>\n",
       "      <td>27.050106</td>\n",
       "      <td>28.431856</td>\n",
       "      <td>17.657853</td>\n",
       "      <td>43.349320</td>\n",
       "      <td>28.927629</td>\n",
       "      <td>32.762841</td>\n",
       "    </tr>\n",
       "    <tr>\n",
       "      <th>1975-04-30</th>\n",
       "      <td>36.120498</td>\n",
       "      <td>35.980265</td>\n",
       "      <td>30.179479</td>\n",
       "      <td>37.642638</td>\n",
       "      <td>16.225479</td>\n",
       "      <td>20.327062</td>\n",
       "      <td>25.663172</td>\n",
       "      <td>27.389022</td>\n",
       "      <td>36.149709</td>\n",
       "      <td>30.532432</td>\n",
       "      <td>...</td>\n",
       "      <td>36.601128</td>\n",
       "      <td>32.457447</td>\n",
       "      <td>34.383316</td>\n",
       "      <td>25.504964</td>\n",
       "      <td>27.270090</td>\n",
       "      <td>28.580271</td>\n",
       "      <td>17.787585</td>\n",
       "      <td>44.454450</td>\n",
       "      <td>29.277377</td>\n",
       "      <td>33.266394</td>\n",
       "    </tr>\n",
       "    <tr>\n",
       "      <th>1975-05-31</th>\n",
       "      <td>36.421849</td>\n",
       "      <td>36.576786</td>\n",
       "      <td>30.371230</td>\n",
       "      <td>37.864617</td>\n",
       "      <td>16.486814</td>\n",
       "      <td>20.497741</td>\n",
       "      <td>25.733086</td>\n",
       "      <td>27.622613</td>\n",
       "      <td>36.433117</td>\n",
       "      <td>30.653270</td>\n",
       "      <td>...</td>\n",
       "      <td>36.220049</td>\n",
       "      <td>32.606660</td>\n",
       "      <td>34.652016</td>\n",
       "      <td>25.668351</td>\n",
       "      <td>27.463349</td>\n",
       "      <td>28.704849</td>\n",
       "      <td>17.904450</td>\n",
       "      <td>45.566959</td>\n",
       "      <td>29.562586</td>\n",
       "      <td>33.755117</td>\n",
       "    </tr>\n",
       "  </tbody>\n",
       "</table>\n",
       "<p>5 rows × 50 columns</p>\n",
       "</div>"
      ],
      "text/plain": [
       "                   AL         AK         AZ         AR         CA         CO  \\\n",
       "Date                                                                           \n",
       "1975-01-31  35.324038  34.400087  28.886571  36.838213  15.665713  19.666460   \n",
       "1975-02-28  35.545343  34.911194  29.374322  37.149935  15.721510  19.894520   \n",
       "1975-03-31  35.803942  35.434316  29.828662  37.420977  15.912556  20.118681   \n",
       "1975-04-30  36.120498  35.980265  30.179479  37.642638  16.225479  20.327062   \n",
       "1975-05-31  36.421849  36.576786  30.371230  37.864617  16.486814  20.497741   \n",
       "\n",
       "                   CT         DE         FL         GA    ...             SD  \\\n",
       "Date                                                      ...                  \n",
       "1975-01-31  24.530646  27.146975  30.903838  30.862154    ...      37.861487   \n",
       "1975-02-28  25.051659  27.185646  32.121077  30.583518    ...      37.445064   \n",
       "1975-03-31  25.443161  27.252283  33.931871  30.466267    ...      37.021567   \n",
       "1975-04-30  25.663172  27.389022  36.149709  30.532432    ...      36.601128   \n",
       "1975-05-31  25.733086  27.622613  36.433117  30.653270    ...      36.220049   \n",
       "\n",
       "                   TN         TX         UT         VT         VA         WA  \\\n",
       "Date                                                                           \n",
       "1975-01-31  32.210851  32.659989  24.603939  26.556884  27.954539  17.480301   \n",
       "1975-02-28  32.246969  32.970745  24.947973  26.807912  28.230531  17.549796   \n",
       "1975-03-31  32.329769  33.542148  25.258222  27.050106  28.431856  17.657853   \n",
       "1975-04-30  32.457447  34.383316  25.504964  27.270090  28.580271  17.787585   \n",
       "1975-05-31  32.606660  34.652016  25.668351  27.463349  28.704849  17.904450   \n",
       "\n",
       "                   WV         WI         WY  \n",
       "Date                                         \n",
       "1975-01-31  41.248346  28.142079  31.820164  \n",
       "1975-02-28  42.277521  28.537453  32.277898  \n",
       "1975-03-31  43.349320  28.927629  32.762841  \n",
       "1975-04-30  44.454450  29.277377  33.266394  \n",
       "1975-05-31  45.566959  29.562586  33.755117  \n",
       "\n",
       "[5 rows x 50 columns]"
      ]
     },
     "execution_count": 206,
     "metadata": {},
     "output_type": "execute_result"
    }
   ],
   "source": [
    "hpi_data = pd.read_pickle('hpi_data.pickle')\n",
    "hpi_data.head()\n"
   ]
  },
  {
   "cell_type": "code",
   "execution_count": 189,
   "metadata": {
    "collapsed": false,
    "scrolled": true
   },
   "outputs": [],
   "source": [
    "def plot_hpi(hpi_data):\n",
    "    hpi_converted = convertDate(hpi_data)\n",
    "    data = pd.melt(hpi_converted, id_vars='Date').dropna()\n",
    "    data = data.rename(columns = {'Date':'Date','variable':'States','value':'Price'})\n",
    "    show = ggplot(data, aes('Date','Price',color='States')) + geom_line()\n",
    "    return show\n",
    "\n",
    "def plot_hpi_with_usa(usa_data):\n",
    "    usa_con = convertDate(usa_data)\n",
    "    usa_data = pd.melt(usa_con, id_vars='Date').dropna()\n",
    "    usa_data = data.rename(columns = {'Date':'Date','variable':'States','value':'Price'})\n",
    "  \n",
    "    show = plot_hpi(pd.read_pickle('hpi_data_pc.pickle')) + \\\n",
    "        geom_line(usa_data, aes('Date','Price')) \n",
    "    \n",
    "    return show"
   ]
  },
  {
   "cell_type": "code",
   "execution_count": 232,
   "metadata": {
    "collapsed": false
   },
   "outputs": [
    {
     "data": {
      "text/plain": [
       "<ggplot: (331027525)>"
      ]
     },
     "execution_count": 232,
     "metadata": {},
     "output_type": "execute_result"
    }
   ],
   "source": [
    "plot_hpi(pd.read_pickle('hpi_data_pc.pickle'))"
   ]
  },
  {
   "cell_type": "code",
   "execution_count": 262,
   "metadata": {
    "collapsed": false
   },
   "outputs": [
    {
     "name": "stdout",
     "output_type": "stream",
     "text": [
      "<class 'pandas.core.frame.DataFrame'>\n"
     ]
    }
   ],
   "source": [
    "#min percentage a state is related to\n",
    "hpi_data_corr = hpi_data.corr()\n",
    "min_data = hpi_data_corr.min()\n",
    "min_series = {'Min' : pd.Series(min_data)}\n",
    "\n",
    "min_frame = pd.DataFrame(min_series)\n",
    "min_frame['State Abbrev'] = min_frame.index\n",
    "min_frame = min_frame.reset_index(drop=True)\n",
    "min_frame = min_frame[['State Abbrev','Min']]\n",
    "\n",
    "qplot(min_frame.Min)"
   ]
  },
  {
   "cell_type": "code",
   "execution_count": null,
   "metadata": {
    "collapsed": false
   },
   "outputs": [],
   "source": []
  },
  {
   "cell_type": "code",
   "execution_count": null,
   "metadata": {
    "collapsed": true
   },
   "outputs": [],
   "source": []
  }
 ],
 "metadata": {
  "kernelspec": {
   "display_name": "Python 2",
   "language": "python",
   "name": "python2"
  }
 },
 "nbformat": 4,
 "nbformat_minor": 0
}
